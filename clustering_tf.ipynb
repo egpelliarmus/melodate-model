{
  "nbformat": 4,
  "nbformat_minor": 0,
  "metadata": {
    "colab": {
      "provenance": []
    },
    "kernelspec": {
      "name": "python3",
      "display_name": "Python 3"
    },
    "language_info": {
      "name": "python"
    }
  },
  "cells": [
    {
      "cell_type": "code",
      "execution_count": 8,
      "metadata": {
        "id": "UuXTwpwCBv4N",
        "colab": {
          "base_uri": "https://localhost:8080/"
        },
        "outputId": "e6f31564-bf36-49b1-a66b-f5513d0d30b2"
      },
      "outputs": [
        {
          "output_type": "stream",
          "name": "stdout",
          "text": [
            "    user  age  status  gender drinks  height smokes      religion  \\\n",
            "0  user0   31  single  female    yes   168.0     no      hinduism   \n",
            "1  user1   50  single  female    yes   175.0     no      buddhism   \n",
            "2  user2   25  single    male    yes   188.0     no  confucianism   \n",
            "3  user3   39  single    male    yes   175.0     no      hinduism   \n",
            "4  user4   22  single    male    yes   170.0    yes      buddhism   \n",
            "\n",
            "                      genre music_decade            music_vibe  \\\n",
            "0                     K-Pop        2020s    Relaxing and Chill   \n",
            "1                     K-Pop        2020s  Upbeat and Energetic   \n",
            "2  Traditional & Folk Music        2000s    Relaxing and Chill   \n",
            "3                       Pop        2010s    Relaxing and Chill   \n",
            "4         Indie/Alternative        1980s  Upbeat and Energetic   \n",
            "\n",
            "  listening_frequency                                      concert  \n",
            "0          Frequently          No, I prefer not to attend concerts  \n",
            "1          Frequently  Sometimes, depending on the artist or event  \n",
            "2          Frequently          No, I prefer not to attend concerts  \n",
            "3          Frequently          No, I prefer not to attend concerts  \n",
            "4          Frequently  Sometimes, depending on the artist or event  \n"
          ]
        }
      ],
      "source": [
        "import pandas as pd\n",
        "from sklearn.preprocessing import OneHotEncoder\n",
        "import tensorflow as tf\n",
        "from sklearn.cluster import KMeans\n",
        "\n",
        "# Load dataset\n",
        "data = pd.read_csv('merged_dataset.csv')\n",
        "print(data.head())"
      ]
    },
    {
      "cell_type": "code",
      "source": [
        "# One-hot encoding\n",
        "encoder = OneHotEncoder()\n",
        "one_hot_data = encoder.fit_transform(data).toarray()\n",
        "print(\"One-hot encoding done. Dimension data:\", one_hot_data.shape)"
      ],
      "metadata": {
        "id": "-wwMv-81CEsq",
        "colab": {
          "base_uri": "https://localhost:8080/"
        },
        "outputId": "e49b6c03-69f7-4f24-eec1-d059c1806576"
      },
      "execution_count": 9,
      "outputs": [
        {
          "output_type": "stream",
          "name": "stdout",
          "text": [
            "One-hot encoding done. Dimension data: (300, 431)\n"
          ]
        }
      ]
    },
    {
      "cell_type": "code",
      "source": [
        "# Convert to TensorFlow tensor\n",
        "tf_data = tf.convert_to_tensor(one_hot_data, dtype=tf.float32)\n",
        "print(\"Data convert to tensor:\", tf_data.shape)"
      ],
      "metadata": {
        "colab": {
          "base_uri": "https://localhost:8080/"
        },
        "id": "5wmI7fCcjlfx",
        "outputId": "7fe0d573-5409-42d4-fda1-25576a8d69c1"
      },
      "execution_count": 10,
      "outputs": [
        {
          "output_type": "stream",
          "name": "stdout",
          "text": [
            "Data convert to tensor: (300, 431)\n"
          ]
        }
      ]
    },
    {
      "cell_type": "code",
      "source": [
        "# Definisikan jumlah cluster\n",
        "n_clusters = 5  # Sesuaikan\n",
        "\n",
        "# KMeans clustering\n",
        "kmeans = KMeans(n_clusters=n_clusters, random_state=42)\n",
        "kmeans.fit(one_hot_data)\n",
        "\n",
        "# Assign cluster ke tiap user\n",
        "data['Cluster'] = kmeans.labels_\n",
        "print(\"Clustering done. Example output:\")\n",
        "print(data[['Cluster']].head())"
      ],
      "metadata": {
        "colab": {
          "base_uri": "https://localhost:8080/"
        },
        "id": "ADRD4XgvjuKD",
        "outputId": "eb5837a2-304a-4649-838d-f6f46e61e1a5"
      },
      "execution_count": 11,
      "outputs": [
        {
          "output_type": "stream",
          "name": "stdout",
          "text": [
            "Clustering done. Example output:\n",
            "   Cluster\n",
            "0        0\n",
            "1        0\n",
            "2        1\n",
            "3        1\n",
            "4        2\n"
          ]
        }
      ]
    },
    {
      "cell_type": "code",
      "source": [
        "data.to_csv('clustered_data.csv', index=False)\n",
        "print(\"Hasil clustering disimpan ke clustered_data.csv\")\n"
      ],
      "metadata": {
        "colab": {
          "base_uri": "https://localhost:8080/"
        },
        "id": "nxI9Do0okLoL",
        "outputId": "8565b189-b759-4e4f-edf3-2b0377c87c17"
      },
      "execution_count": 12,
      "outputs": [
        {
          "output_type": "stream",
          "name": "stdout",
          "text": [
            "Hasil clustering disimpan ke clustered_data.csv\n"
          ]
        }
      ]
    }
  ]
}